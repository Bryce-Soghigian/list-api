{
 "cells": [
  {
   "cell_type": "code",
   "execution_count": 1,
   "metadata": {},
   "outputs": [],
   "source": [
    "import pandas as pd"
   ]
  },
  {
   "cell_type": "code",
   "execution_count": 3,
   "metadata": {},
   "outputs": [],
   "source": [
    "df = pd.read_csv(\"anime.csv\",sep = ',')"
   ]
  },
  {
   "cell_type": "code",
   "execution_count": 5,
   "metadata": {},
   "outputs": [],
   "source": [
    "df_animenames_and_descriptions = df[[\"title\",\"title_english\",\"title_japanese\",\"title_synonyms\",\"image_url\",\"genre\",\"background\"]]"
   ]
  },
  {
   "cell_type": "code",
   "execution_count": 6,
   "metadata": {},
   "outputs": [
    {
     "output_type": "execute_result",
     "data": {
      "text/plain": "                 title              title_english title_japanese  \\\n0        Inu x Boku SS  Inu X Boku Secret Service         妖狐×僕SS   \n1     Seto no Hanayome      My Bride is a Mermaid          瀬戸の花嫁   \n2   Shugo Chara!! Doki         Shugo Chara!! Doki    しゅごキャラ！！どきっ   \n3        Princess Tutu              Princess Tutu      プリンセスチュチュ   \n4  Bakuman. 3rd Season                   Bakuman.          バクマン。   \n\n                                  title_synonyms  \\\n0                                Youko x Boku SS   \n1                           The Inland Sea Bride   \n2  Shugo Chara Ninenme, Shugo Chara! Second Year   \n3                                            NaN   \n4                               Bakuman Season 3   \n\n                                           image_url  \\\n0  https://myanimelist.cdn-dena.com/images/anime/...   \n1  https://myanimelist.cdn-dena.com/images/anime/...   \n2  https://myanimelist.cdn-dena.com/images/anime/...   \n3  https://myanimelist.cdn-dena.com/images/anime/...   \n4  https://myanimelist.cdn-dena.com/images/anime/...   \n\n                                      genre  \\\n0    Comedy, Supernatural, Romance, Shounen   \n1  Comedy, Parody, Romance, School, Shounen   \n2             Comedy, Magic, School, Shoujo   \n3    Comedy, Drama, Magic, Romance, Fantasy   \n4           Comedy, Drama, Romance, Shounen   \n\n                                          background  \n0  Inu x Boku SS was licensed by Sentai Filmworks...  \n1                                                NaN  \n2                                                NaN  \n3  Princess Tutu aired in two parts. The first pa...  \n4                                                NaN  ",
      "text/html": "<div>\n<style scoped>\n    .dataframe tbody tr th:only-of-type {\n        vertical-align: middle;\n    }\n\n    .dataframe tbody tr th {\n        vertical-align: top;\n    }\n\n    .dataframe thead th {\n        text-align: right;\n    }\n</style>\n<table border=\"1\" class=\"dataframe\">\n  <thead>\n    <tr style=\"text-align: right;\">\n      <th></th>\n      <th>title</th>\n      <th>title_english</th>\n      <th>title_japanese</th>\n      <th>title_synonyms</th>\n      <th>image_url</th>\n      <th>genre</th>\n      <th>background</th>\n    </tr>\n  </thead>\n  <tbody>\n    <tr>\n      <th>0</th>\n      <td>Inu x Boku SS</td>\n      <td>Inu X Boku Secret Service</td>\n      <td>妖狐×僕SS</td>\n      <td>Youko x Boku SS</td>\n      <td>https://myanimelist.cdn-dena.com/images/anime/...</td>\n      <td>Comedy, Supernatural, Romance, Shounen</td>\n      <td>Inu x Boku SS was licensed by Sentai Filmworks...</td>\n    </tr>\n    <tr>\n      <th>1</th>\n      <td>Seto no Hanayome</td>\n      <td>My Bride is a Mermaid</td>\n      <td>瀬戸の花嫁</td>\n      <td>The Inland Sea Bride</td>\n      <td>https://myanimelist.cdn-dena.com/images/anime/...</td>\n      <td>Comedy, Parody, Romance, School, Shounen</td>\n      <td>NaN</td>\n    </tr>\n    <tr>\n      <th>2</th>\n      <td>Shugo Chara!! Doki</td>\n      <td>Shugo Chara!! Doki</td>\n      <td>しゅごキャラ！！どきっ</td>\n      <td>Shugo Chara Ninenme, Shugo Chara! Second Year</td>\n      <td>https://myanimelist.cdn-dena.com/images/anime/...</td>\n      <td>Comedy, Magic, School, Shoujo</td>\n      <td>NaN</td>\n    </tr>\n    <tr>\n      <th>3</th>\n      <td>Princess Tutu</td>\n      <td>Princess Tutu</td>\n      <td>プリンセスチュチュ</td>\n      <td>NaN</td>\n      <td>https://myanimelist.cdn-dena.com/images/anime/...</td>\n      <td>Comedy, Drama, Magic, Romance, Fantasy</td>\n      <td>Princess Tutu aired in two parts. The first pa...</td>\n    </tr>\n    <tr>\n      <th>4</th>\n      <td>Bakuman. 3rd Season</td>\n      <td>Bakuman.</td>\n      <td>バクマン。</td>\n      <td>Bakuman Season 3</td>\n      <td>https://myanimelist.cdn-dena.com/images/anime/...</td>\n      <td>Comedy, Drama, Romance, Shounen</td>\n      <td>NaN</td>\n    </tr>\n  </tbody>\n</table>\n</div>"
     },
     "metadata": {},
     "execution_count": 6
    }
   ],
   "source": [
    "df_animenames_and_descriptions.head()"
   ]
  },
  {
   "cell_type": "code",
   "execution_count": 7,
   "metadata": {},
   "outputs": [],
   "source": [
    "anime_descriptions_df = df[[\"background\",\"image_url\"]]"
   ]
  },
  {
   "cell_type": "code",
   "execution_count": 12,
   "metadata": {},
   "outputs": [
    {
     "output_type": "execute_result",
     "data": {
      "text/plain": "                 title                                         background  \\\n0        Inu x Boku SS  Inu x Boku SS was licensed by Sentai Filmworks...   \n1     Seto no Hanayome                                                NaN   \n2   Shugo Chara!! Doki                                                NaN   \n3        Princess Tutu  Princess Tutu aired in two parts. The first pa...   \n4  Bakuman. 3rd Season                                                NaN   \n\n                                           image_url  \n0  https://myanimelist.cdn-dena.com/images/anime/...  \n1  https://myanimelist.cdn-dena.com/images/anime/...  \n2  https://myanimelist.cdn-dena.com/images/anime/...  \n3  https://myanimelist.cdn-dena.com/images/anime/...  \n4  https://myanimelist.cdn-dena.com/images/anime/...  ",
      "text/html": "<div>\n<style scoped>\n    .dataframe tbody tr th:only-of-type {\n        vertical-align: middle;\n    }\n\n    .dataframe tbody tr th {\n        vertical-align: top;\n    }\n\n    .dataframe thead th {\n        text-align: right;\n    }\n</style>\n<table border=\"1\" class=\"dataframe\">\n  <thead>\n    <tr style=\"text-align: right;\">\n      <th></th>\n      <th>title</th>\n      <th>background</th>\n      <th>image_url</th>\n    </tr>\n  </thead>\n  <tbody>\n    <tr>\n      <th>0</th>\n      <td>Inu x Boku SS</td>\n      <td>Inu x Boku SS was licensed by Sentai Filmworks...</td>\n      <td>https://myanimelist.cdn-dena.com/images/anime/...</td>\n    </tr>\n    <tr>\n      <th>1</th>\n      <td>Seto no Hanayome</td>\n      <td>NaN</td>\n      <td>https://myanimelist.cdn-dena.com/images/anime/...</td>\n    </tr>\n    <tr>\n      <th>2</th>\n      <td>Shugo Chara!! Doki</td>\n      <td>NaN</td>\n      <td>https://myanimelist.cdn-dena.com/images/anime/...</td>\n    </tr>\n    <tr>\n      <th>3</th>\n      <td>Princess Tutu</td>\n      <td>Princess Tutu aired in two parts. The first pa...</td>\n      <td>https://myanimelist.cdn-dena.com/images/anime/...</td>\n    </tr>\n    <tr>\n      <th>4</th>\n      <td>Bakuman. 3rd Season</td>\n      <td>NaN</td>\n      <td>https://myanimelist.cdn-dena.com/images/anime/...</td>\n    </tr>\n  </tbody>\n</table>\n</div>"
     },
     "metadata": {},
     "execution_count": 12
    }
   ],
   "source": [
    "#we want to make 5 dataframes\n",
    "# the first is gonna be anime descriptions which has the \"background\" column\n",
    "# the second is gonna be \"title\" and 'background'\n",
    "# third is \"title_english\" and background\n",
    "# so on so forth\n",
    "basic_title_df = df[[\"title\",\"background\",\"image_url\"]]\n",
    "basic_title_df.head()\n"
   ]
  },
  {
   "cell_type": "code",
   "execution_count": 21,
   "metadata": {
    "tags": [
     "outputPrepend"
    ]
   },
   "outputs": [],
   "source": [
    "#add all values to a cell\n",
    "arr = []\n",
    "for i in range(len(df)):\n",
    "    arr.append(df[\"title\"].iloc[i])\n",
    "    arr.append(df[\"title_english\"].iloc[i])\n",
    "    arr.append(df[\"title_japanese\"].iloc[i])\n",
    "    arr.append(df[\"title_synonyms\"].iloc[i])\n",
    "\n",
    "title_df = pd.DataFrame(arr)"
   ]
  },
  {
   "cell_type": "code",
   "execution_count": 27,
   "metadata": {},
   "outputs": [],
   "source": [
    "#renaming the columns\n",
    "title_df = title_df.rename({0:\"titles\"},axis=\"columns\")\n",
    "\n"
   ]
  },
  {
   "cell_type": "code",
   "execution_count": 32,
   "metadata": {},
   "outputs": [],
   "source": [
    "title_df = title_df.dropna(axis=0,how=\"any\",thresh=None, subset=None,inplace=False)\n",
    "title_df.to_csv(\"merged_anime.csv\")"
   ]
  },
  {
   "cell_type": "code",
   "execution_count": 31,
   "metadata": {},
   "outputs": [],
   "source": []
  },
  {
   "cell_type": "code",
   "execution_count": null,
   "metadata": {},
   "outputs": [],
   "source": []
  }
 ],
 "metadata": {
  "kernelspec": {
   "display_name": "Python 3",
   "language": "python",
   "name": "python3"
  },
  "language_info": {
   "codemirror_mode": {
    "name": "ipython",
    "version": 3
   },
   "file_extension": ".py",
   "mimetype": "text/x-python",
   "name": "python",
   "nbconvert_exporter": "python",
   "pygments_lexer": "ipython3",
   "version": "3.7.7-final"
  }
 },
 "nbformat": 4,
 "nbformat_minor": 4
}